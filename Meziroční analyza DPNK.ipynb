{
 "cells": [
  {
   "cell_type": "markdown",
   "metadata": {},
   "source": [
    "# Meziroční analyza DPNK: 2017 → 2018"
   ]
  },
  {
   "cell_type": "code",
   "execution_count": null,
   "metadata": {
    "collapsed": false
   },
   "outputs": [],
   "source": [
    "import matplotlib.pyplot as plt\n",
    "import numpy as np\n",
    "import pandas as pd\n",
    "import json\n",
    "\n",
    "uaprev = json.load(open(\"UserAttendance-2017.json.anon\"))\n",
    "uacur = json.load(open(\"UserAttendance-2018.json.anon\"))\n",
    "prev = \"2017\"\n",
    "cur = \"2018\"\n",
    "print(\"Počet platicích učastníků \", prev,\": \", len(uaprev))\n",
    "print(\"Počet platicích učastníků \", cur,\": \", len(uacur))\n",
    "growth = len(uacur) - len(uaprev)\n",
    "print(\"Meziroční růst: \", growth, \"(\", round(100*(len(uacur)/len(uaprev) - 1)), \"%)\")\n",
    "print(\"Předpověd přištiho roku se stejným růstem:\", round(len(uacur)*(len(uacur)/len(uaprev))))"
   ]
  },
  {
   "cell_type": "markdown",
   "metadata": {},
   "source": [
    "Kolik lidí přihlašili se stejnou emailovou adresu?\n",
    "--------------------------------------------------------"
   ]
  },
  {
   "cell_type": "code",
   "execution_count": null,
   "metadata": {
    "collapsed": false
   },
   "outputs": [],
   "source": [
    "def by_email(uas):\n",
    "    d = {}\n",
    "    for ua in uas:\n",
    "        d[ua['userprofile__user__email']] = ua\n",
    "    return d\n",
    "by_emailprev = by_email(uaprev)\n",
    "by_emailcur = by_email(uacur)\n",
    "email_set_prev = set(by_emailprev.keys())\n",
    "email_set_cur = set(by_emailcur.keys())\n",
    "len(email_set_prev.intersection(email_set_cur))"
   ]
  },
  {
   "cell_type": "markdown",
   "metadata": {},
   "source": [
    "Kolik lidí přihlašili se jinou (novou) emailovou adresu?\n",
    "-----------------------------------------------------"
   ]
  },
  {
   "cell_type": "code",
   "execution_count": null,
   "metadata": {
    "collapsed": false
   },
   "outputs": [],
   "source": [
    "len(email_set_cur - email_set_prev)"
   ]
  },
  {
   "cell_type": "markdown",
   "metadata": {},
   "source": [
    "Kolik lidí nejezdili pod stejnou emailovou adresu?\n",
    "--------------------------------------------------"
   ]
  },
  {
   "cell_type": "code",
   "execution_count": null,
   "metadata": {
    "collapsed": false
   },
   "outputs": [],
   "source": [
    "len(email_set_prev - email_set_cur)"
   ]
  },
  {
   "cell_type": "markdown",
   "metadata": {},
   "source": [
    "## Firmy"
   ]
  },
  {
   "cell_type": "code",
   "execution_count": null,
   "metadata": {
    "collapsed": false
   },
   "outputs": [],
   "source": [
    "def by_company(uas):\n",
    "    d = {}\n",
    "    for ua in uas:\n",
    "        if not ua['team__subsidiary__company__name'] in d:\n",
    "            d[ua['team__subsidiary__company__name']] = []\n",
    "        d[ua['team__subsidiary__company__name']].append(ua)\n",
    "    return d\n",
    "by_firmprev = by_company(uaprev)\n",
    "by_firmcur = by_company(uacur)\n",
    "firm_set_prev = set(by_firmprev.keys())\n",
    "firm_set_cur = set(by_firmcur.keys())\n",
    "print(\"Počet firem \", prev, \": \", len(firm_set_prev))\n",
    "print(\"Počet firem \", cur, \": \", len(firm_set_cur))\n",
    "print(\"Průměrný počet učastniku na firmu \", prev, \": \", round(len(uaprev)/len(firm_set_prev), 2))\n",
    "print(\"Průměrný počet učastniku na firmu \", cur, \": \", round(len(uacur)/len(firm_set_cur), 2))"
   ]
  },
  {
   "cell_type": "markdown",
   "metadata": {},
   "source": [
    "### Největší firmy"
   ]
  },
  {
   "cell_type": "code",
   "execution_count": null,
   "metadata": {
    "collapsed": true
   },
   "outputs": [],
   "source": [
    "%matplotlib inline"
   ]
  },
  {
   "cell_type": "code",
   "execution_count": null,
   "metadata": {
    "collapsed": false
   },
   "outputs": [],
   "source": [
    "def plot_groups(groups, title):\n",
    "    rider_counts = []\n",
    "    for name, riders in groups.items():\n",
    "        rider_counts.append((name, len(riders)))\n",
    "    group_sizes = sorted(rider_counts, key=lambda t: t[1]) \n",
    "    import itertools\n",
    "    group_names = []\n",
    "    group_size = []\n",
    "    for n, c in itertools.islice(reversed(group_sizes), 40):\n",
    "        group_names.append(n)\n",
    "        group_size.append(c)\n",
    "    s = pd.Series(group_size, index=group_names)\n",
    "    s.plot.bar(figsize=(10,10))\n",
    "    plt.title(title);\n",
    "plot_groups(by_firmcur, cur)"
   ]
  },
  {
   "cell_type": "code",
   "execution_count": null,
   "metadata": {
    "collapsed": false
   },
   "outputs": [],
   "source": [
    "plot_groups(by_firmprev, prev)"
   ]
  },
  {
   "cell_type": "markdown",
   "metadata": {},
   "source": [
    "### Kolik firem s námi zůstali"
   ]
  },
  {
   "cell_type": "code",
   "execution_count": null,
   "metadata": {
    "collapsed": false
   },
   "outputs": [],
   "source": [
    "len(firm_set_prev.intersection(firm_set_cur))"
   ]
  },
  {
   "cell_type": "markdown",
   "metadata": {},
   "source": [
    "### Kolik firem odešli?"
   ]
  },
  {
   "cell_type": "code",
   "execution_count": null,
   "metadata": {
    "collapsed": false
   },
   "outputs": [],
   "source": [
    "len(firm_set_prev - firm_set_cur)"
   ]
  },
  {
   "cell_type": "markdown",
   "metadata": {},
   "source": [
    "### Kolik nových firem přibili?"
   ]
  },
  {
   "cell_type": "code",
   "execution_count": null,
   "metadata": {
    "collapsed": false
   },
   "outputs": [],
   "source": [
    "len(firm_set_cur - firm_set_prev)"
   ]
  },
  {
   "cell_type": "markdown",
   "metadata": {},
   "source": [
    "### Největší firmy které odešli\n",
    "Pozn: Je možné, že některé firmy se přejmenovali?"
   ]
  },
  {
   "cell_type": "code",
   "execution_count": null,
   "metadata": {
    "collapsed": false
   },
   "outputs": [],
   "source": [
    "lost_firms = {}\n",
    "for firm in firm_set_prev - firm_set_cur:\n",
    "    lost_firms[firm] = by_firmprev[firm]\n",
    "plot_groups(lost_firms, \"Odešli\")"
   ]
  },
  {
   "cell_type": "markdown",
   "metadata": {},
   "source": [
    "### Největší nové firmy\n",
    "Pozn: Je možné, že některé firmy se přejmenovali?"
   ]
  },
  {
   "cell_type": "code",
   "execution_count": null,
   "metadata": {
    "collapsed": false
   },
   "outputs": [],
   "source": [
    "new_firms = {}\n",
    "for firm in firm_set_cur - firm_set_prev:\n",
    "    new_firms[firm] = by_firmcur[firm]\n",
    "plot_groups(new_firms, \"Nové velké firmy\")"
   ]
  },
  {
   "cell_type": "markdown",
   "metadata": {},
   "source": [
    "### Ztěch firem které snámi zůstali, jak vyvijeli počet učastniků, které sníma jezdili?"
   ]
  },
  {
   "cell_type": "code",
   "execution_count": null,
   "metadata": {
    "collapsed": false
   },
   "outputs": [],
   "source": [
    "difference_pairs = []\n",
    "for firm in firm_set_prev.intersection(firm_set_cur):\n",
    "    difference_pairs.append((firm,len(by_firmcur[firm]) - len(by_firmprev[firm])))\n",
    "differences = []\n",
    "firms = []\n",
    "for f,d in sorted(difference_pairs, key=lambda a:a[1]):\n",
    "    firms.append(f)\n",
    "    differences.append(d)\n",
    "print(\"Počet firem se stejným počtem účasniků:\", len([x for x in differences if x == 0]))\n",
    "print(\"Počet firem se větším počtem účasniků:\", len([x for x in differences if x > 0]))\n",
    "print(\"Počet firem se menším počtem účasniků:\", len([x for x in differences if x < 0]))\n",
    "s = pd.Series(itertools.islice(differences, 40), index=itertools.islice(firms,4O))\n",
    "s.plot.bar(figsize=(10,25))\n",
    "plt.title(\"Změny ve velikost firem (nejhorší)\");"
   ]
  },
  {
   "cell_type": "code",
   "execution_count": null,
   "metadata": {
    "collapsed": true
   },
   "outputs": [],
   "source": []
  },
  {
   "cell_type": "markdown",
   "metadata": {},
   "source": [
    "## Města"
   ]
  },
  {
   "cell_type": "code",
   "execution_count": null,
   "metadata": {
    "collapsed": false
   },
   "outputs": [],
   "source": [
    "def by_city(uas):\n",
    "    d = {}\n",
    "    for ua in uas:\n",
    "        if not ua['team__subsidiary__city__name'] in d:\n",
    "            d[ua['team__subsidiary__city__name']] = []\n",
    "        d[ua['team__subsidiary__city__name']].append(ua)\n",
    "    return d\n",
    "by_cityprev = by_city(uaprev)\n",
    "by_citycur = by_city(uacur)\n",
    "city_set_prev = set(by_cityprev.keys())\n",
    "city_set_cur = set(by_citycur.keys())\n",
    "print(\"Počet měst\", prev, \":\", len(city_set_prev))\n",
    "print(\"Počet měst\", cur, \":\", len(city_set_cur))\n",
    "print(\"Průměrný počet učastniku na město\", prev, \":\", round(len(uaprev)/len(city_set_prev), 2))\n",
    "print(\"Průměrný počet učastniku na město\", cur, \":\", round(len(uacur)/len(city_set_cur), 2))"
   ]
  },
  {
   "cell_type": "markdown",
   "metadata": {},
   "source": [
    "### Největší města"
   ]
  },
  {
   "cell_type": "code",
   "execution_count": null,
   "metadata": {
    "collapsed": false
   },
   "outputs": [],
   "source": [
    "plot_groups(by_citycur, cur)"
   ]
  },
  {
   "cell_type": "code",
   "execution_count": null,
   "metadata": {
    "collapsed": false
   },
   "outputs": [],
   "source": [
    "plot_groups(by_cityprev, prev)"
   ]
  },
  {
   "cell_type": "markdown",
   "metadata": {},
   "source": [
    "### Ztěch měst které měli učastnici oba roky, jak vyvijeli počet učastniků, které v ních jezdili?"
   ]
  },
  {
   "cell_type": "code",
   "execution_count": null,
   "metadata": {
    "collapsed": false
   },
   "outputs": [],
   "source": [
    "differences = []\n",
    "for city in city_set_prev.intersection(city_set_cur):\n",
    "    differences.append(len(by_citycur[city]) - len(by_cityprev[city]))\n",
    "print(\"Počet měst se stejným počtem účasniků:\", len([x for x in differences if x == 0]))\n",
    "print(\"Počet měst se větším počtem účasniků:\", len([x for x in differences if x > 0]))\n",
    "print(\"Počet měst se menším počtem účasniků:\", len([x for x in differences if x < 0]))"
   ]
  },
  {
   "cell_type": "markdown",
   "metadata": {},
   "source": [
    "#### Které města měli menší počet učastníku?"
   ]
  },
  {
   "cell_type": "code",
   "execution_count": null,
   "metadata": {
    "collapsed": false
   },
   "outputs": [],
   "source": [
    "print(\"Ubyilo počet učastniků bez města\")\n",
    "for city in city_set_prev.intersection(city_set_cur):\n",
    "    difference = len(by_citycur[city]) - len(by_cityprev[city])\n",
    "    if difference < 0:\n",
    "        print(city)\n",
    "        print(\" \", prev, \":\", len(by_cityprev[city]))\n",
    "        print(\" \", cur, \":\", len(by_citycur[city]))"
   ]
  },
  {
   "cell_type": "markdown",
   "metadata": {},
   "source": [
    "### Růst města"
   ]
  },
  {
   "cell_type": "code",
   "execution_count": null,
   "metadata": {
    "collapsed": true
   },
   "outputs": [],
   "source": [
    "s = pd.Series(diferences, index=company_names)\n",
    "s.plot.bar(figsize=(10,25))\n",
    "plt.title(\"Růst\");"
   ]
  }
 ],
 "metadata": {
  "kernelspec": {
   "display_name": "Python 3",
   "language": "python",
   "name": "python3"
  },
  "language_info": {
   "codemirror_mode": {
    "name": "ipython",
    "version": 3
   },
   "file_extension": ".py",
   "mimetype": "text/x-python",
   "name": "python",
   "nbconvert_exporter": "python",
   "pygments_lexer": "ipython3",
   "version": "3.5.3"
  }
 },
 "nbformat": 4,
 "nbformat_minor": 2
}
