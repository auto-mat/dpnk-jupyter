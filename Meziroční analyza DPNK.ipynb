{
 "cells": [
  {
   "cell_type": "code",
   "execution_count": null,
   "metadata": {
    "collapsed": true
   },
   "outputs": [],
   "source": [
    "import matplotlib.pyplot as plt\n",
    "import numpy as np\n",
    "import pandas as pd\n",
    "import json\n",
    "import itertools\n",
    "from IPython.display import display, Markdown\n",
    "\n",
    "try:\n",
    "    config = json.load(open(\"config.json\"))\n",
    "except FileNotFoundError:\n",
    "    config = {\n",
    "        \"title\": \"Meziroční analyza: 2017 → 2018\",\n",
    "        \"prev\": \"2017\",\n",
    "        \"cur\": \"2018\",\n",
    "        \"prev_file\": \"UserAttendance-2017.json.anon\",\n",
    "        \"cur_file\": \"UserAttendance-2018.json.anon\",\n",
    "    }\n",
    "uaprev = json.load(open(config[\"prev_file\"]))\n",
    "uacur = json.load(open(config[\"cur_file\"]))\n",
    "prev = config[\"prev\"]\n",
    "cur = config[\"cur\"]\n",
    "display(Markdown(\"# \" + config[\"title\"]))\n",
    "print(\"Počet platicích učastníků \", prev,\": \", len(uaprev))\n",
    "print(\"Počet platicích učastníků \", cur,\": \", len(uacur))\n",
    "growth = len(uacur) - len(uaprev)\n",
    "print(\"Meziroční růst: \", growth, \"(\", round(100*(len(uacur)/len(uaprev) - 1)), \"%)\")\n",
    "print(\"Předpověd přištiho roku se stejným růstem:\", round(len(uacur)*(len(uacur)/len(uaprev))))"
   ]
  },
  {
   "cell_type": "markdown",
   "metadata": {},
   "source": [
    "### Table columns"
   ]
  },
  {
   "cell_type": "code",
   "execution_count": null,
   "metadata": {
    "collapsed": true
   },
   "outputs": [],
   "source": [
    "for key in uacur[1].keys():\n",
    "    print(key)"
   ]
  },
  {
   "cell_type": "code",
   "execution_count": null,
   "metadata": {
    "collapsed": false
   },
   "outputs": [],
   "source": [
    "def group_by(uas, key):\n",
    "    d = {}\n",
    "    for ua in uas:\n",
    "        if not ua[key] in d:\n",
    "            d[ua[key]] = []\n",
    "        d[ua[key]].append(ua)\n",
    "    return d"
   ]
  },
  {
   "cell_type": "markdown",
   "metadata": {},
   "source": [
    "Kolik lidí přihlašili přes stejným účtem?\n",
    "------------------------------------------"
   ]
  },
  {
   "cell_type": "code",
   "execution_count": null,
   "metadata": {
    "collapsed": true
   },
   "outputs": [],
   "source": [
    "def by_id(uas):\n",
    "    return group_by(uas, 'userprofile__user__id')\n",
    "by_idprev = by_id(uaprev)\n",
    "by_idcur = by_id(uacur)\n",
    "id_set_prev = set(by_idprev.keys())\n",
    "id_set_cur = set(by_idcur.keys())\n",
    "len(id_set_prev.intersection(id_set_cur))"
   ]
  },
  {
   "cell_type": "markdown",
   "metadata": {},
   "source": [
    "Kolik lidí přihlašili se stejnou emailovou adresu?\n",
    "--------------------------------------------------------"
   ]
  },
  {
   "cell_type": "code",
   "execution_count": null,
   "metadata": {
    "collapsed": true
   },
   "outputs": [],
   "source": [
    "def by_email(uas):\n",
    "    return group_by(uas, 'userprofile__user__email')\n",
    "by_emailprev = by_email(uaprev)\n",
    "by_emailcur = by_email(uacur)\n",
    "email_set_prev = set(by_emailprev.keys())\n",
    "email_set_cur = set(by_emailcur.keys())\n",
    "len(email_set_prev.intersection(email_set_cur))"
   ]
  },
  {
   "cell_type": "markdown",
   "metadata": {},
   "source": [
    "Kolik lidí přihlašili se jinou (novou) emailovou adresu?\n",
    "-----------------------------------------------------"
   ]
  },
  {
   "cell_type": "code",
   "execution_count": null,
   "metadata": {
    "collapsed": true
   },
   "outputs": [],
   "source": [
    "len(email_set_cur - email_set_prev)"
   ]
  },
  {
   "cell_type": "markdown",
   "metadata": {},
   "source": [
    "Kolik lidí nejezdili pod stejnou emailovou adresu?\n",
    "--------------------------------------------------"
   ]
  },
  {
   "cell_type": "code",
   "execution_count": null,
   "metadata": {
    "collapsed": true
   },
   "outputs": [],
   "source": [
    "len(email_set_prev - email_set_cur)"
   ]
  },
  {
   "cell_type": "markdown",
   "metadata": {},
   "source": [
    "Kolik unikatných telefonních čisel opakovali mezi rokama?\n",
    "--------------------------------------------------------"
   ]
  },
  {
   "cell_type": "code",
   "execution_count": null,
   "metadata": {
    "collapsed": true
   },
   "outputs": [],
   "source": [
    "def by_tel(uas):\n",
    "    return group_by(uas, 'userprofile__telephone')\n",
    "by_telprev = by_tel(uaprev)\n",
    "by_telcur = by_tel(uacur)\n",
    "tel_set_prev = set(by_telprev.keys())\n",
    "tel_set_cur = set(by_telcur.keys())\n",
    "len(tel_set_prev.intersection(tel_set_cur))"
   ]
  },
  {
   "cell_type": "markdown",
   "metadata": {},
   "source": [
    "Kolik lidí přihlašili se jiným (novým) telefonním číslem?\n",
    "-----------------------------------------------------"
   ]
  },
  {
   "cell_type": "code",
   "execution_count": null,
   "metadata": {
    "collapsed": true
   },
   "outputs": [],
   "source": [
    "len(tel_set_cur - tel_set_prev)"
   ]
  },
  {
   "cell_type": "markdown",
   "metadata": {},
   "source": [
    "Kolik lidí nejezdili pod stejným tel číslem?\n",
    "--------------------------------------------------"
   ]
  },
  {
   "cell_type": "code",
   "execution_count": null,
   "metadata": {
    "collapsed": true
   },
   "outputs": [],
   "source": [
    "len(tel_set_prev - tel_set_cur)"
   ]
  },
  {
   "cell_type": "markdown",
   "metadata": {},
   "source": [
    "### Opakované telefonní čisla v ramci jednoho ročniku\n",
    "Vč. prazdné a vymyšlené čisla"
   ]
  },
  {
   "cell_type": "code",
   "execution_count": null,
   "metadata": {
    "collapsed": true
   },
   "outputs": [],
   "source": [
    "len(uacur) - len(by_telcur)"
   ]
  },
  {
   "cell_type": "code",
   "execution_count": null,
   "metadata": {
    "collapsed": false
   },
   "outputs": [],
   "source": [
    "def by_company(uas):\n",
    "    return group_by(uas, 'team__subsidiary__company__name')\n",
    "by_firmprev = by_company(uaprev)\n",
    "by_firmcur = by_company(uacur)\n",
    "firm_set_prev = set(by_firmprev.keys())\n",
    "firm_set_cur = set(by_firmcur.keys())"
   ]
  },
  {
   "cell_type": "markdown",
   "metadata": {},
   "source": [
    "### Analyza schodních jmen"
   ]
  },
  {
   "cell_type": "code",
   "execution_count": null,
   "metadata": {
    "collapsed": true
   },
   "outputs": [],
   "source": [
    "repeated_names = 0\n",
    "different_id = 0\n",
    "for firm in firm_set_cur.intersection(firm_set_prev):\n",
    "    for ua in by_firmcur[firm]:\n",
    "        for uap in by_firmprev[firm]:\n",
    "            if uap['userprofile__user__first_name'] == ua['userprofile__user__first_name'] and ua['userprofile__user__last_name'] == uap['userprofile__user__last_name']:\n",
    "                repeated_names += 1\n",
    "                if uap['userprofile__user__id'] != ua['userprofile__user__id']:\n",
    "                    different_id += 1\n",
    "                break\n",
    "print(\"Opakované jména i firmu:\", repeated_names)\n",
    "print(\"Procenta minulého ročníku:\", round(100*(repeated_names/len(uaprev))), \"%\")\n",
    "print(\"Opakované jména i firmu ale ne účet:\", different_id)\n",
    "different_firm = 0\n",
    "different_first_name = 0\n",
    "different_last_name = 0\n",
    "for id_ in id_set_prev.intersection(id_set_cur):\n",
    "    if by_idcur[id_][0]['team__subsidiary__company__name'] != by_idprev[id_][0]['team__subsidiary__company__name']:\n",
    "        different_firm += 1\n",
    "    if by_idcur[id_][0]['userprofile__user__first_name'] != by_idprev[id_][0]['userprofile__user__first_name']:\n",
    "        different_first_name += 1\n",
    "    if by_idcur[id_][0]['userprofile__user__last_name'] != by_idprev[id_][0]['userprofile__user__last_name']:\n",
    "        different_last_name += 1\n",
    "print(\"Stejný účet, jinou firmu:\", different_firm)\n",
    "print(\"Stejný účet, nebo firmu+jméno:\", different_firm+repeated_names, \"(\", round(100*(different_firm+repeated_names)/len(uaprev)), \")%\")\n",
    "print(\"Stejný účet, jiné přijmení:\", different_last_name)\n",
    "print(\"Stejný účet, jiné křestní jméno:\", different_first_name)"
   ]
  },
  {
   "cell_type": "markdown",
   "metadata": {},
   "source": [
    "## Firmy"
   ]
  },
  {
   "cell_type": "code",
   "execution_count": null,
   "metadata": {
    "collapsed": true
   },
   "outputs": [],
   "source": [
    "print(\"Počet firem \", prev, \": \", len(firm_set_prev))\n",
    "print(\"Počet firem \", cur, \": \", len(firm_set_cur))\n",
    "print(\"Průměrný počet učastniku na firmu \", prev, \": \", round(len(uaprev)/len(firm_set_prev), 2))\n",
    "print(\"Průměrný počet učastniku na firmu \", cur, \": \", round(len(uacur)/len(firm_set_cur), 2))"
   ]
  },
  {
   "cell_type": "markdown",
   "metadata": {},
   "source": [
    "### Největší firmy"
   ]
  },
  {
   "cell_type": "code",
   "execution_count": null,
   "metadata": {
    "collapsed": false
   },
   "outputs": [],
   "source": [
    "%matplotlib inline"
   ]
  },
  {
   "cell_type": "code",
   "execution_count": null,
   "metadata": {
    "collapsed": true
   },
   "outputs": [],
   "source": [
    "def mk_groups(groups):\n",
    "    rider_counts = []\n",
    "    for name, riders in groups.items():\n",
    "        rider_counts.append((name, len(riders)))\n",
    "    group_sizes = sorted(rider_counts, key=lambda t: t[1]) \n",
    "    import itertools\n",
    "    group_names = []\n",
    "    group_size = []\n",
    "    for n, c in itertools.islice(reversed(group_sizes), 40):\n",
    "        group_names.append(n)\n",
    "        group_size.append(c)\n",
    "    return group_names, group_size\n",
    "def plot_groups(groups, title):\n",
    "    group_names, group_size = mk_groups(groups)\n",
    "    s = pd.Series(group_size, index=group_names)\n",
    "    s.plot.bar(figsize=(15,8))\n",
    "    plt.title(title);\n",
    "plot_groups(by_firmcur, cur)"
   ]
  },
  {
   "cell_type": "code",
   "execution_count": null,
   "metadata": {
    "collapsed": true
   },
   "outputs": [],
   "source": [
    "plot_groups(by_firmprev, prev)"
   ]
  },
  {
   "cell_type": "markdown",
   "metadata": {},
   "source": [
    "### Kolik firem s námi zůstali"
   ]
  },
  {
   "cell_type": "code",
   "execution_count": null,
   "metadata": {
    "collapsed": true
   },
   "outputs": [],
   "source": [
    "len(firm_set_prev.intersection(firm_set_cur))"
   ]
  },
  {
   "cell_type": "markdown",
   "metadata": {},
   "source": [
    "### Kolik firem odešli?"
   ]
  },
  {
   "cell_type": "code",
   "execution_count": null,
   "metadata": {
    "collapsed": true
   },
   "outputs": [],
   "source": [
    "len(firm_set_prev - firm_set_cur)"
   ]
  },
  {
   "cell_type": "markdown",
   "metadata": {},
   "source": [
    "### Kolik nových firem přibili?"
   ]
  },
  {
   "cell_type": "code",
   "execution_count": null,
   "metadata": {
    "collapsed": true
   },
   "outputs": [],
   "source": [
    "len(firm_set_cur - firm_set_prev)"
   ]
  },
  {
   "cell_type": "markdown",
   "metadata": {},
   "source": [
    "### Přesun mezi firmama: Stejný telefonní čislo a přijmení, jiná firma"
   ]
  },
  {
   "cell_type": "code",
   "execution_count": null,
   "metadata": {
    "collapsed": true
   },
   "outputs": [],
   "source": [
    "from collections import Counter\n",
    "different_firm = set()\n",
    "old_firms = {}\n",
    "for tel, uasc in by_telcur.items():\n",
    "    if tel in by_telprev:\n",
    "        for uap in by_telprev[tel]:\n",
    "            for uac in uasc:\n",
    "                if uac['userprofile__user__last_name'] == uap['userprofile__user__last_name'] and uac['team__subsidiary__company__name'] != uap['team__subsidiary__company__name']:\n",
    "                    if not uap['team__subsidiary__company__name'] in old_firms:\n",
    "                        old_firms[uap['team__subsidiary__company__name']] = Counter()\n",
    "                    old_firms[uap['team__subsidiary__company__name']][uac['team__subsidiary__company__name']] += 1\n",
    "                    different_firm.add(uac['userprofile__user__id'])\n",
    "def count_counts(i):\n",
    "    _, counts = i\n",
    "    return sum(counts.values())\n",
    "\n",
    "for old_firm, new_firms in reversed(sorted(old_firms.items(), key=count_counts)):\n",
    "    print(old_firm, \": (Staré veilikost \", len(by_firmprev[old_firm]), \")\")\n",
    "    for new_firm, count in new_firms.items():\n",
    "        new = \"\"\n",
    "        if new_firm not in by_firmprev:\n",
    "            new = \"| Nová firma ve velikosti \" + str(len(by_firmcur[new_firm])) + \"!\"\n",
    "        print(\"  →  Přesovali \",count, \"lidi do\", new_firm, new)\n",
    "    if old_firm in by_firmcur:\n",
    "        print(\"     Zůstali:\", len(by_firmcur[old_firm]))\n",
    "    else:\n",
    "        print(\"     Firma už nejezdí :(\")\n",
    "    print()\n",
    "print(\"Celkem:\", len(different_firm))"
   ]
  },
  {
   "cell_type": "markdown",
   "metadata": {},
   "source": [
    "### Největší firmy které odešli\n",
    "Pozn: Je možné, že některé firmy se přejmenovali?"
   ]
  },
  {
   "cell_type": "code",
   "execution_count": null,
   "metadata": {
    "collapsed": true
   },
   "outputs": [],
   "source": [
    "lost_firms = {}\n",
    "for firm in firm_set_prev - firm_set_cur:\n",
    "    lost_firms[firm] = by_firmprev[firm]\n",
    "plot_groups(lost_firms, \"Odešli\")"
   ]
  },
  {
   "cell_type": "code",
   "execution_count": null,
   "metadata": {
    "collapsed": true
   },
   "outputs": [],
   "source": [
    "def tablify_counts(groups):\n",
    "    table = []\n",
    "    for group, members in reversed(sorted(groups.items(), key=lambda i: len(i[1]))):\n",
    "        table.append([group, len(members)])\n",
    "    return table\n",
    "\n",
    "lost_firms_l = tablify_counts(lost_firms)\n",
    "pd.DataFrame(lost_firms_l, columns=[\"Název firmy\", \"Původní velikost\"])"
   ]
  },
  {
   "cell_type": "markdown",
   "metadata": {},
   "source": [
    "### Největší nové firmy\n",
    "Pozn: Je možné, že některé firmy se přejmenovali?"
   ]
  },
  {
   "cell_type": "code",
   "execution_count": null,
   "metadata": {
    "collapsed": true
   },
   "outputs": [],
   "source": [
    "new_firms = {}\n",
    "for firm in firm_set_cur - firm_set_prev:\n",
    "    new_firms[firm] = by_firmcur[firm]\n",
    "plot_groups(new_firms, \"Nové velké firmy\")"
   ]
  },
  {
   "cell_type": "code",
   "execution_count": null,
   "metadata": {
    "collapsed": true
   },
   "outputs": [],
   "source": [
    "new_firms_l = tablify_counts(new_firms)\n",
    "pd.DataFrame(new_firms_l, columns=[\"Název firmy\", \"Nový velikost\"])"
   ]
  },
  {
   "cell_type": "markdown",
   "metadata": {},
   "source": [
    "### Ztěch firem které snámi zůstali, jak vyvijeli počet učastniků, které sníma jezdili?"
   ]
  },
  {
   "cell_type": "code",
   "execution_count": null,
   "metadata": {
    "collapsed": true
   },
   "outputs": [],
   "source": [
    "difference_pairs = []\n",
    "for firm in firm_set_prev.intersection(firm_set_cur):\n",
    "    difference_pairs.append((firm,len(by_firmcur[firm]) - len(by_firmprev[firm])))\n",
    "differences = []\n",
    "firms_by_growth = []\n",
    "for f,d in sorted(difference_pairs, key=lambda a:a[1]):\n",
    "    firms_by_growth.append(f)\n",
    "    differences.append(d)\n",
    "print(\"Počet firem se stejným počtem účasniků:\", len([x for x in differences if x == 0]))\n",
    "print(\"Počet firem se větším počtem účasniků:\", len([x for x in differences if x > 0]))\n",
    "print(\"Počet firem se menším počtem účasniků:\", len([x for x in differences if x < 0]))\n",
    "s = pd.Series(list(itertools.islice(differences, 40)), index=list(itertools.islice(firms_by_growth, 40)))\n",
    "s.plot.bar(figsize=(15,8))\n",
    "plt.title(\"Změny ve velikost firem (nejhorší)\");"
   ]
  },
  {
   "cell_type": "code",
   "execution_count": null,
   "metadata": {
    "collapsed": true
   },
   "outputs": [],
   "source": [
    "s = pd.Series(list(itertools.islice(reversed(differences), 40)), index=list(itertools.islice(reversed(firms_by_growth), 40)))\n",
    "s.plot.bar(figsize=(15,8))\n",
    "plt.title(\"Změny ve velikost firem (nejlepší)\");"
   ]
  },
  {
   "cell_type": "markdown",
   "metadata": {},
   "source": [
    "## Města"
   ]
  },
  {
   "cell_type": "code",
   "execution_count": null,
   "metadata": {
    "collapsed": true
   },
   "outputs": [],
   "source": [
    "def by_city(uas):\n",
    "    return group_by(uas, 'team__subsidiary__city__name')\n",
    "by_cityprev = by_city(uaprev)\n",
    "by_citycur = by_city(uacur)\n",
    "city_set_prev = set(by_cityprev.keys())\n",
    "city_set_cur = set(by_citycur.keys())\n",
    "print(\"Počet měst\", prev, \":\", len(city_set_prev))\n",
    "print(\"Počet měst\", cur, \":\", len(city_set_cur))\n",
    "print(\"Průměrný počet učastniku na město\", prev, \":\", round(len(uaprev)/len(city_set_prev), 2))\n",
    "print(\"Průměrný počet učastniku na město\", cur, \":\", round(len(uacur)/len(city_set_cur), 2))"
   ]
  },
  {
   "cell_type": "markdown",
   "metadata": {},
   "source": [
    "### Největší města"
   ]
  },
  {
   "cell_type": "code",
   "execution_count": null,
   "metadata": {
    "collapsed": true
   },
   "outputs": [],
   "source": [
    "plot_groups(by_citycur, cur)"
   ]
  },
  {
   "cell_type": "code",
   "execution_count": null,
   "metadata": {
    "collapsed": true
   },
   "outputs": [],
   "source": [
    "plot_groups(by_cityprev, prev)"
   ]
  },
  {
   "cell_type": "markdown",
   "metadata": {},
   "source": [
    "### Ztěch měst které měli učastnici oba roky, jak vyvijeli počet učastniků, které v ních jezdili?"
   ]
  },
  {
   "cell_type": "code",
   "execution_count": null,
   "metadata": {
    "collapsed": true
   },
   "outputs": [],
   "source": [
    "difference_pairs = []\n",
    "for city in city_set_prev.intersection(city_set_cur):\n",
    "    difference_pairs.append((city, len(by_citycur[city]) - len(by_cityprev[city])))\n",
    "difference_pairs = sorted(difference_pairs, key=lambda a: a[1])\n",
    "cities = []\n",
    "differences = []\n",
    "for c, d in difference_pairs:\n",
    "    cities.append(c)\n",
    "    differences.append(d)\n",
    "print(\"Počet měst se stejným počtem účasniků:\", len([x for x in differences if x == 0]))\n",
    "print(\"Počet měst se větším počtem účasniků:\", len([x for x in differences if x > 0]))\n",
    "print(\"Počet měst se menším počtem účasniků:\", len([x for x in differences if x < 0]))"
   ]
  },
  {
   "cell_type": "markdown",
   "metadata": {},
   "source": [
    "#### Které města měli menší počet učastníku?"
   ]
  },
  {
   "cell_type": "code",
   "execution_count": null,
   "metadata": {
    "collapsed": true
   },
   "outputs": [],
   "source": [
    "print(\"Ubyilo počet učastniků bez města\")\n",
    "for city in city_set_prev.intersection(city_set_cur):\n",
    "    difference = len(by_citycur[city]) - len(by_cityprev[city])\n",
    "    if difference < 0:\n",
    "        print(city)\n",
    "        print(\" \", prev, \":\", len(by_cityprev[city]))\n",
    "        print(\" \", cur, \":\", len(by_citycur[city]))"
   ]
  },
  {
   "cell_type": "markdown",
   "metadata": {},
   "source": [
    "### Růst města"
   ]
  },
  {
   "cell_type": "code",
   "execution_count": null,
   "metadata": {
    "collapsed": true
   },
   "outputs": [],
   "source": [
    "s = pd.Series(differences, index=cities)\n",
    "s.plot.bar(figsize=(15,7))\n",
    "plt.title(\"Růst\");"
   ]
  },
  {
   "cell_type": "code",
   "execution_count": null,
   "metadata": {
    "collapsed": true
   },
   "outputs": [],
   "source": [
    "percent_differences = []\n",
    "for city, d in difference_pairs:\n",
    "     percent_differences.append(round(100*(d/len(by_cityprev[city]))))\n",
    "s = pd.Series(percent_differences, index=cities)\n",
    "s.plot.bar(figsize=(15,8))\n",
    "plt.title(\"Procenta růst\");"
   ]
  },
  {
   "cell_type": "markdown",
   "metadata": {},
   "source": [
    "## Spůsoby platby"
   ]
  },
  {
   "cell_type": "code",
   "execution_count": null,
   "metadata": {
    "collapsed": true
   },
   "outputs": [],
   "source": [
    "PAY_TYPES = (\n",
    "        ('mp', 'mPenize - mBank'),\n",
    "        ('kb', 'MojePlatba'),\n",
    "        ('rf', 'ePlatby pro eKonto'),\n",
    "        ('pg', 'GE Money Bank'),\n",
    "        ('pv', 'Sberbank (Volksbank)'),\n",
    "        ('pf', 'Fio banka'),\n",
    "        ('cs', 'PLATBA 24 – Česká spořitelna'),\n",
    "        ('era', 'Era - Poštovní spořitelna'),\n",
    "        ('cb', 'ČSOB'),\n",
    "        ('c', 'Kreditní karta přes GPE'),\n",
    "        ('bt', 'bankovní převod'),\n",
    "        ('pt', 'převod přes poštu'),\n",
    "        ('sc', 'superCASH'),  # Deprecated\n",
    "        ('psc', 'PaySec'),\n",
    "        ('mo', 'Mobito'),\n",
    "        ('uc', 'UniCredit'),\n",
    "        ('t', 'testovací platba'),\n",
    "\n",
    "        ('fa', 'faktura mimo PayU'),\n",
    "        ('fc', 'organizace platí fakturou'),\n",
    "        ('am', 'člen Klubu přátel Auto*Matu'),\n",
    "        ('amw', 'kandidát na členství v Klubu přátel Auto*Matu'),\n",
    "        ('fe', 'neplatí účastnický poplatek '),\n",
    "        ('', 'nezadano')\n",
    "    )\n",
    "PAY_TYPES_DICT = dict(PAY_TYPES)\n",
    "def by_payment_type(uas):\n",
    "    grps = group_by(uas, 'payment_type')\n",
    "    ngrps = {}\n",
    "    for k,v in grps.items():\n",
    "        ngrps[PAY_TYPES_DICT[k]] = v\n",
    "    return ngrps\n",
    "\n",
    "by_payprev = by_payment_type(uaprev)\n",
    "by_paycur = by_payment_type(uacur)\n",
    "pay_set_prev = set(by_payprev.keys())\n",
    "pay_set_cur = set(by_paycur.keys())\n",
    "plot_groups(by_paycur, cur)"
   ]
  },
  {
   "cell_type": "code",
   "execution_count": null,
   "metadata": {
    "collapsed": true
   },
   "outputs": [],
   "source": [
    "plot_groups(by_payprev, prev)"
   ]
  },
  {
   "cell_type": "code",
   "execution_count": null,
   "metadata": {
    "collapsed": true
   },
   "outputs": [],
   "source": [
    "len(competed_again)"
   ]
  },
  {
   "cell_type": "markdown",
   "metadata": {},
   "source": [
    "### Jezdili znovu podle spůsob platby"
   ]
  },
  {
   "cell_type": "code",
   "execution_count": null,
   "metadata": {
    "collapsed": true
   },
   "outputs": [],
   "source": [
    "def plot_repeatition_by_payment_method():\n",
    "    year_payment_method = []\n",
    "    repeated = []\n",
    "    def add_year(uas, year, repeats):\n",
    "        num_repeats_f = 0\n",
    "        num_onces_f = 0\n",
    "        num_repeats_s = 0\n",
    "        num_onces_s = 0\n",
    "        ypmf = year + \" Fakturou\"\n",
    "        ypms = year + \" Samoplatcem\"\n",
    "        for ua in uas:\n",
    "            if ua['userprofile__user__id'] in repeats:\n",
    "                repeated.append(\"Ano\")\n",
    "            else:\n",
    "                repeated.append(\"Ne\")\n",
    "            if ua['payment_type'] == 'fc':\n",
    "                if ua['userprofile__user__id'] in repeats:\n",
    "                    num_repeats_f += 1\n",
    "                else:\n",
    "                    num_onces_f += 1\n",
    "                year_payment_method.append(ypmf)\n",
    "            else:\n",
    "                if ua['userprofile__user__id'] in repeats:\n",
    "                    num_repeats_s += 1\n",
    "                else:\n",
    "                    num_onces_s += 1\n",
    "                year_payment_method.append(ypms)\n",
    "        f_tot = num_repeats_f + num_onces_f\n",
    "        s_tot = num_repeats_s + num_onces_s\n",
    "        print(f_tot,\"lidi jezdili v roce\", year, \"a platili fakturou\")\n",
    "        print(num_repeats_f,\"(\", round(100*num_repeats_f/f_tot,1), \"% ) Jezdili znovu\")\n",
    "        print(num_onces_f, \"(\", round(100*num_onces_f/f_tot, 1),\"% ) Nejezdili znovu\")\n",
    "        print()\n",
    "        print(s_tot, \"lidi jezdili v roce\", year, \"a neplatili fakturou\")\n",
    "        print(num_repeats_s,\"(\", round(100*num_repeats_s/s_tot, 1),\"% ) Jezdili znovu\")\n",
    "        print(num_onces_s,\"(\", round(100*num_onces_s/s_tot, 1),\"% ) Nejezdili znovu\")\n",
    "        print()\n",
    "        print()\n",
    "\n",
    "    add_year(uaprev, prev, id_set_prev.intersection(id_set_cur))\n",
    "    add_year(uacur, cur, id_set_prev.intersection(id_set_cur))\n",
    "\n",
    "            \n",
    "    data = pd.DataFrame({'Rok/typ platby': year_payment_method, \n",
    "                         'Jezdili obě roky?': repeated})\n",
    "\n",
    "    return pd.crosstab(data['Rok/typ platby'], data['Jezdili obě roky?']).plot.bar(stacked=True, title=\"Jezdili znovu?\", figsize=[15,10])\n",
    "plot_repeatition_by_payment_method()"
   ]
  },
  {
   "cell_type": "markdown",
   "metadata": {},
   "source": [
    "#### Podíl ve jednotlivích firmách"
   ]
  },
  {
   "cell_type": "code",
   "execution_count": null,
   "metadata": {
    "collapsed": true
   },
   "outputs": [],
   "source": [
    "def plot_payment_methods(uas, biggest, title):\n",
    "    firm_employees = []\n",
    "    payment_methods = []\n",
    "    for ua in uas:\n",
    "        if ua['team__subsidiary__company__name'] in biggest:\n",
    "            firm_employees.append(str(biggest.index(ua['team__subsidiary__company__name']) + 1).zfill(2) + \". \" + ua['team__subsidiary__company__name'])\n",
    "            if ua['payment_type'] == 'fc':\n",
    "                payment_methods.append(\"Fakturou\")\n",
    "            else:\n",
    "                payment_methods.append(\"Jinak\")\n",
    "    data = pd.DataFrame({'Firmy': firm_employees, \n",
    "                         'Spůsob plátby': payment_methods})\n",
    "\n",
    "    return pd.crosstab(data.Firmy, data['Spůsob plátby']).plot.bar(stacked=True, title=title, figsize=[15,10])\n",
    "plot_payment_methods(uacur, list(reversed(firms_by_growth[-40:])), \"Podíl způsob faktury \" + cur + \"- firmy se největším růstem\")"
   ]
  },
  {
   "cell_type": "code",
   "execution_count": null,
   "metadata": {
    "collapsed": true
   },
   "outputs": [],
   "source": [
    "plot_payment_methods(uaprev, list(reversed(firms_by_growth[-40:])), \"Podíl způsob faktury \" + prev + \"- firmy se největším růstem\")"
   ]
  },
  {
   "cell_type": "code",
   "execution_count": null,
   "metadata": {
    "collapsed": true
   },
   "outputs": [],
   "source": [
    "plot_payment_methods(uaprev, firms_by_growth[:40], \"Podíl způsob faktury \" + prev + \"- firmy se největším ztratem\")"
   ]
  },
  {
   "cell_type": "code",
   "execution_count": null,
   "metadata": {
    "collapsed": true
   },
   "outputs": [],
   "source": [
    "plot_payment_methods(uacur, firms_by_growth[:40], \"Podíl způsob faktury \" + cur + \"- firmy se největším ztratem\")"
   ]
  },
  {
   "cell_type": "code",
   "execution_count": null,
   "metadata": {
    "collapsed": true
   },
   "outputs": [],
   "source": [
    "plot_payment_methods(uacur, mk_groups(by_firmcur)[0][:40], \"Podíl způsob faktury \" + cur + \"- největší firmy vůbec\")"
   ]
  },
  {
   "cell_type": "code",
   "execution_count": null,
   "metadata": {
    "collapsed": true
   },
   "outputs": [],
   "source": [
    "plot_payment_methods(uaprev, mk_groups(by_firmprev)[0][:40], \"Podíl způsob faktury \" + prev + \"- největší firmy vůbec\")"
   ]
  },
  {
   "cell_type": "markdown",
   "metadata": {},
   "source": [
    "### Firmy se samoplatci"
   ]
  },
  {
   "cell_type": "code",
   "execution_count": null,
   "metadata": {
    "collapsed": true
   },
   "outputs": [],
   "source": [
    "def get_self_payers(payment_type_groups):\n",
    "    self_payers = []\n",
    "    non_self_pay_types = ['neplatí účastnický poplatek ', 'organizace platí fakturou']\n",
    "    for k,v in payment_type_groups.items():\n",
    "        if k not in non_self_pay_types:\n",
    "            self_payers.extend(v)\n",
    "    return self_payers\n",
    "plot_groups(by_company(get_self_payers(by_paycur)), cur)"
   ]
  },
  {
   "cell_type": "code",
   "execution_count": null,
   "metadata": {
    "collapsed": true
   },
   "outputs": [],
   "source": [
    "plot_groups(by_company(get_self_payers(by_payprev)), prev)"
   ]
  },
  {
   "cell_type": "markdown",
   "metadata": {},
   "source": [
    "#### Firma s největší počet samoplatci"
   ]
  },
  {
   "cell_type": "code",
   "execution_count": null,
   "metadata": {
    "collapsed": true
   },
   "outputs": [],
   "source": [
    "def plot_company_payment_types(firm):\n",
    "    plot_groups(by_payment_type(by_firmcur[firm]), firm + \" \" + cur + \" - podle typ platby\")\n",
    "def plot_company_payment_types_prev(firm):\n",
    "    plot_groups(by_payment_type(by_firmprev[firm]), firm + \" \" + prev + \" - podle typ platby\")\n",
    "def get_biggest(uas):\n",
    "    n = 0\n",
    "    biggest = ''\n",
    "    for k,v in uas.items():\n",
    "        if len(v) > n:\n",
    "            n = len(v)\n",
    "            biggest = k\n",
    "    return biggest\n",
    "biggest_mixed = get_biggest(by_company(get_self_payers(by_payprev)))\n",
    "plot_company_payment_types(biggest_mixed)"
   ]
  },
  {
   "cell_type": "code",
   "execution_count": null,
   "metadata": {
    "collapsed": true
   },
   "outputs": [],
   "source": [
    "plot_company_payment_types_prev(biggest_mixed)"
   ]
  },
  {
   "cell_type": "markdown",
   "metadata": {},
   "source": [
    "### Firmy, které platili jen některé účastnici"
   ]
  },
  {
   "cell_type": "code",
   "execution_count": null,
   "metadata": {
    "collapsed": true
   },
   "outputs": [],
   "source": [
    "mixed_firms = {}\n",
    "for firm, uas in by_company(get_self_payers(by_paycur)).items():\n",
    "    if len(by_firmcur[firm]) != len(uas):\n",
    "        mixed_firms[firm] = by_firmcur[firm]\n",
    "plot_groups(mixed_firms, cur)"
   ]
  },
  {
   "cell_type": "markdown",
   "metadata": {},
   "source": [
    "#### Největší firma"
   ]
  },
  {
   "cell_type": "code",
   "execution_count": null,
   "metadata": {
    "collapsed": true
   },
   "outputs": [],
   "source": [
    "plot_company_payment_types_prev(get_biggest(by_firmcur))"
   ]
  },
  {
   "cell_type": "code",
   "execution_count": null,
   "metadata": {
    "collapsed": true
   },
   "outputs": [],
   "source": [
    "plot_company_payment_types(get_biggest(by_firmcur))"
   ]
  },
  {
   "cell_type": "markdown",
   "metadata": {},
   "source": [
    "#### Největší nová firma"
   ]
  },
  {
   "cell_type": "code",
   "execution_count": null,
   "metadata": {
    "collapsed": true
   },
   "outputs": [],
   "source": [
    "plot_company_payment_types(get_biggest(new_firms))"
   ]
  },
  {
   "cell_type": "markdown",
   "metadata": {},
   "source": [
    "### Jak se vyvijelo typ platby u firem které stratili učastníků?"
   ]
  },
  {
   "cell_type": "code",
   "execution_count": null,
   "metadata": {
    "collapsed": true
   },
   "outputs": [],
   "source": [
    "plot_company_payment_types_prev(firms_by_growth[0])"
   ]
  },
  {
   "cell_type": "code",
   "execution_count": null,
   "metadata": {
    "collapsed": true
   },
   "outputs": [],
   "source": [
    "plot_company_payment_types(firms_by_growth[0])"
   ]
  },
  {
   "cell_type": "code",
   "execution_count": null,
   "metadata": {
    "collapsed": true
   },
   "outputs": [],
   "source": [
    "plot_company_payment_types_prev(firms_by_growth[1])"
   ]
  },
  {
   "cell_type": "code",
   "execution_count": null,
   "metadata": {
    "collapsed": true
   },
   "outputs": [],
   "source": [
    "plot_company_payment_types(firms_by_growth[1])"
   ]
  },
  {
   "cell_type": "code",
   "execution_count": null,
   "metadata": {
    "collapsed": true
   },
   "outputs": [],
   "source": [
    "plot_company_payment_types_prev(firms_by_growth[2])"
   ]
  },
  {
   "cell_type": "code",
   "execution_count": null,
   "metadata": {
    "collapsed": true
   },
   "outputs": [],
   "source": [
    "plot_company_payment_types(firms_by_growth[2])"
   ]
  },
  {
   "cell_type": "code",
   "execution_count": null,
   "metadata": {
    "collapsed": true
   },
   "outputs": [],
   "source": [
    "plot_company_payment_types_prev(firms_by_growth[3])"
   ]
  },
  {
   "cell_type": "code",
   "execution_count": null,
   "metadata": {
    "collapsed": true
   },
   "outputs": [],
   "source": [
    "plot_company_payment_types(firms_by_growth[3])"
   ]
  },
  {
   "cell_type": "code",
   "execution_count": null,
   "metadata": {
    "collapsed": true
   },
   "outputs": [],
   "source": [
    "plot_company_payment_types_prev(firms_by_growth[4])"
   ]
  },
  {
   "cell_type": "code",
   "execution_count": null,
   "metadata": {
    "collapsed": true
   },
   "outputs": [],
   "source": [
    "plot_company_payment_types(firms_by_growth[4])"
   ]
  },
  {
   "cell_type": "markdown",
   "metadata": {},
   "source": [
    "### Jak vyvijelo typy platby u firem, u které přibili účastnici?"
   ]
  },
  {
   "cell_type": "code",
   "execution_count": null,
   "metadata": {
    "collapsed": true
   },
   "outputs": [],
   "source": [
    "plot_company_payment_types_prev(firms_by_growth[-1])"
   ]
  },
  {
   "cell_type": "code",
   "execution_count": null,
   "metadata": {
    "collapsed": true
   },
   "outputs": [],
   "source": [
    "plot_company_payment_types(firms_by_growth[-1])"
   ]
  },
  {
   "cell_type": "code",
   "execution_count": null,
   "metadata": {
    "collapsed": true
   },
   "outputs": [],
   "source": [
    "plot_company_payment_types_prev(firms_by_growth[-2])"
   ]
  },
  {
   "cell_type": "code",
   "execution_count": null,
   "metadata": {
    "collapsed": true
   },
   "outputs": [],
   "source": [
    "plot_company_payment_types(firms_by_growth[-2])"
   ]
  },
  {
   "cell_type": "code",
   "execution_count": null,
   "metadata": {
    "collapsed": true
   },
   "outputs": [],
   "source": [
    "plot_company_payment_types_prev(firms_by_growth[-3])"
   ]
  },
  {
   "cell_type": "code",
   "execution_count": null,
   "metadata": {
    "collapsed": true
   },
   "outputs": [],
   "source": [
    "plot_company_payment_types(firms_by_growth[-3])"
   ]
  },
  {
   "cell_type": "code",
   "execution_count": null,
   "metadata": {
    "collapsed": true
   },
   "outputs": [],
   "source": [
    "plot_company_payment_types_prev(firms_by_growth[-4])"
   ]
  },
  {
   "cell_type": "code",
   "execution_count": null,
   "metadata": {
    "collapsed": true
   },
   "outputs": [],
   "source": [
    "plot_company_payment_types(firms_by_growth[-4])"
   ]
  },
  {
   "cell_type": "code",
   "execution_count": null,
   "metadata": {
    "collapsed": true
   },
   "outputs": [],
   "source": [
    "plot_company_payment_types_prev(firms_by_growth[-5])"
   ]
  },
  {
   "cell_type": "code",
   "execution_count": null,
   "metadata": {
    "collapsed": true
   },
   "outputs": [],
   "source": [
    "plot_company_payment_types(firms_by_growth[-5])"
   ]
  },
  {
   "cell_type": "markdown",
   "metadata": {},
   "source": [
    "## Velikost triček"
   ]
  },
  {
   "cell_type": "code",
   "execution_count": null,
   "metadata": {
    "collapsed": true
   },
   "outputs": [],
   "source": [
    "plot_groups(group_by(uacur, 't_shirt_size__name'), cur)"
   ]
  },
  {
   "cell_type": "code",
   "execution_count": null,
   "metadata": {
    "collapsed": true
   },
   "outputs": [],
   "source": [
    "plot_groups(group_by(uaprev, 't_shirt_size__name'), prev)"
   ]
  },
  {
   "cell_type": "code",
   "execution_count": null,
   "metadata": {
    "collapsed": true
   },
   "outputs": [],
   "source": [
    "by_shirtcur = group_by(uacur, 't_shirt_size__name')\n",
    "sizes = ['XXXL', 'XXL', 'XL', 'L', 'M', 'S', 'XS']\n",
    "def get_size(ua):\n",
    "    s = len(sizes)\n",
    "    for size in sizes:\n",
    "        if ua['t_shirt_size__name'].endswith(' ' + size):\n",
    "            return s\n",
    "        s += 1\n",
    "    return s\n",
    "larger = 0\n",
    "smaller = 0\n",
    "same = 0\n",
    "total = 0\n",
    "\n",
    "for k,v in by_idcur.items():\n",
    "    if k in by_idprev:\n",
    "        ps = get_size(by_idprev[k][0])\n",
    "        cs = get_size(v[0])\n",
    "        total += 1\n",
    "        if cs > ps:\n",
    "            larger += 1\n",
    "        if cs == ps:\n",
    "            same += 1\n",
    "        if cs < ps:\n",
    "            smaller += 1\n",
    "print(\"Větší\", larger, \"(\", round(100*larger/total),\"% ) Stejné\", same, \"(\", round(100*same/total),\"% ) Menší\", smaller, \"(\", round(100*smaller/total),\"% )\")"
   ]
  },
  {
   "cell_type": "code",
   "execution_count": null,
   "metadata": {
    "collapsed": false
   },
   "outputs": [],
   "source": []
  }
 ],
 "metadata": {
  "kernelspec": {
   "display_name": "Python 3",
   "language": "python",
   "name": "python3"
  },
  "language_info": {
   "codemirror_mode": {
    "name": "ipython",
    "version": 3
   },
   "file_extension": ".py",
   "mimetype": "text/x-python",
   "name": "python",
   "nbconvert_exporter": "python",
   "pygments_lexer": "ipython3",
   "version": "3.5.3"
  }
 },
 "nbformat": 4,
 "nbformat_minor": 2
}
